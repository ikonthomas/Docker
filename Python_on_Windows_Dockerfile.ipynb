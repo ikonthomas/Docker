{
  "nbformat": 4,
  "nbformat_minor": 0,
  "metadata": {
    "colab": {
      "name": "Python on Windows Dockerfile",
      "version": "0.3.2",
      "provenance": [],
      "collapsed_sections": [],
      "include_colab_link": true
    },
    "kernelspec": {
      "name": "python3",
      "display_name": "Python 3"
    }
  },
  "cells": [
    {
      "cell_type": "markdown",
      "metadata": {
        "id": "view-in-github",
        "colab_type": "text"
      },
      "source": [
        "<a href=\"https://colab.research.google.com/github/ikonthomas/Docker/blob/master/Python_on_Windows_Dockerfile.ipynb\" target=\"_parent\"><img src=\"https://colab.research.google.com/assets/colab-badge.svg\" alt=\"Open In Colab\"/></a>"
      ]
    },
    {
      "metadata": {
        "id": "DsBA5hhngp4F",
        "colab_type": "code",
        "colab": {}
      },
      "cell_type": "code",
      "source": [
        "# This dockerfile utilizes components licensed by their respective owners/authors.\n",
        "# Prior to utilizing this file or resulting images please review the respective licenses at: https://docs.python.org/3/license.html\n",
        "\n",
        "FROM microsoft/windowsservercore\n",
        "\n",
        "LABEL Description=\"Python\" Vendor=\"Python Software Foundation\" Version=\"3.5.1\"\n",
        "\n",
        "RUN powershell.exe -Command \\\n",
        "    $ErrorActionPreference = 'Stop'; \\\n",
        "    wget https://www.python.org/ftp/python/3.5.1/python-3.5.1.exe -OutFile c:\\python-3.5.1.exe ; \\\n",
        "    Start-Process c:\\python-3.5.1.exe -ArgumentList '/quiet InstallAllUsers=1 PrependPath=1' -Wait ; \\\n",
        "    Remove-Item c:\\python-3.5.1.exe -Force\n",
        "\n",
        "RUN echo print(\"Hello World!\") > c:\\hello.py\n",
        "\n",
        "CMD [\"py\", \"c:/hello.py\"]"
      ],
      "execution_count": 0,
      "outputs": []
    }
  ]
}